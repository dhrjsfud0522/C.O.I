{
 "cells": [
  {
   "cell_type": "code",
   "execution_count": 24,
   "metadata": {},
   "outputs": [
    {
     "name": "stdout",
     "output_type": "stream",
     "text": [
      "2\n"
     ]
    }
   ],
   "source": [
    "n = int(input())\n",
    "a = list(map(int, input().split()))\n",
    "l = [1] * n\n",
    "\n",
    "for i in range(0, n):\n",
    "    if (a[i] % 2 == 0 or a[i] == 0):\n",
    "        l[i] = 0\n",
    "\n",
    "sl = 0\n",
    "sr = 0\n",
    "for j in range(0, n):\n",
    "    if(l[j] == 1):\n",
    "        sl += 1\n",
    "        while(l[j - 1] != 1):\n",
    "            f\n",
    "\n",
    "\n",
    "    \n",
    "\n",
    "if( sl > sr):\n",
    "    print(sr)\n",
    "else:\n",
    "    print(sl)"
   ]
  },
  {
   "cell_type": "code",
   "execution_count": 4,
   "metadata": {},
   "outputs": [
    {
     "name": "stdout",
     "output_type": "stream",
     "text": [
      "[1, 2, 3, 4, 5, 6, 7, 8, 9, 10]\n"
     ]
    }
   ],
   "source": [
    "n, m = list(map(int, input().split()))\n",
    "l = list(range(1, n + 1))\n",
    "a = []\n",
    "b = []\n",
    "\n",
    "for _ in range(m):\n",
    "    i, k, j = list(map(int, input().split()))\n",
    "    a = l[k : j + 1]\n",
    "    b = l[i : k]\n",
    "    for q in range(0, len(b) - 1):\n",
    "        l[i + q] = b[q]\n",
    "    for w in range(0, len(a) - 1):\n",
    "        l[k + w] = a[w]\n",
    "\n",
    "\n"
   ]
  }
 ],
 "metadata": {
  "kernelspec": {
   "display_name": "Python 3",
   "language": "python",
   "name": "python3"
  },
  "language_info": {
   "codemirror_mode": {
    "name": "ipython",
    "version": 3
   },
   "file_extension": ".py",
   "mimetype": "text/x-python",
   "name": "python",
   "nbconvert_exporter": "python",
   "pygments_lexer": "ipython3",
   "version": "3.10.4"
  },
  "orig_nbformat": 4
 },
 "nbformat": 4,
 "nbformat_minor": 2
}
